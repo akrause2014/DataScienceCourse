{
 "cells": [
  {
   "cell_type": "code",
   "execution_count": 1,
   "metadata": {},
   "outputs": [
    {
     "name": "stdout",
     "output_type": "stream",
     "text": [
      "+---+-------+\n",
      "| ID|   Name|\n",
      "+---+-------+\n",
      "|  1|  Alice|\n",
      "|  2|    Bob|\n",
      "|  3|Charlie|\n",
      "+---+-------+\n",
      "\n"
     ]
    }
   ],
   "source": [
    "customers = spark.read.option(\"header\",True).csv(\"Customers.csv\")\n",
    "customers.show()"
   ]
  },
  {
   "cell_type": "code",
   "execution_count": 2,
   "metadata": {},
   "outputs": [
    {
     "name": "stdout",
     "output_type": "stream",
     "text": [
      "+---+-------+\n",
      "| ID|   Name|\n",
      "+---+-------+\n",
      "|  1|  Alice|\n",
      "|  3|Charlie|\n",
      "+---+-------+\n",
      "\n"
     ]
    }
   ],
   "source": [
    "from pyspark.sql.functions import col\n",
    "filtered_cust = customers.where(col(\"Name\").isin(['Alice', 'Charlie']))\n",
    "filtered_cust.show()"
   ]
  },
  {
   "cell_type": "code",
   "execution_count": 3,
   "metadata": {},
   "outputs": [
    {
     "name": "stdout",
     "output_type": "stream",
     "text": [
      "+--------+--------+-----+\n",
      "|order_ID|Customer|Value|\n",
      "+--------+--------+-----+\n",
      "|       1|       1|   14|\n",
      "|       2|       2|    2|\n",
      "|       3|       1|   21|\n",
      "|       4|       3|    5|\n",
      "|       5|       3|    9|\n",
      "|       6|       3|   25|\n",
      "+--------+--------+-----+\n",
      "\n"
     ]
    }
   ],
   "source": [
    "orders = spark.read.option(\"header\",True).csv(\"Orders.csv\").withColumnRenamed(\"ID\", \"order_ID\")\n",
    "orders.show()"
   ]
  },
  {
   "cell_type": "code",
   "execution_count": 4,
   "metadata": {},
   "outputs": [
    {
     "name": "stdout",
     "output_type": "stream",
     "text": [
      "+---+-------+--------+--------+-----+\n",
      "| ID|   Name|order_ID|Customer|Value|\n",
      "+---+-------+--------+--------+-----+\n",
      "|  1|  Alice|       1|       1|   14|\n",
      "|  1|  Alice|       3|       1|   21|\n",
      "|  3|Charlie|       4|       3|    5|\n",
      "|  3|Charlie|       5|       3|    9|\n",
      "|  3|Charlie|       6|       3|   25|\n",
      "+---+-------+--------+--------+-----+\n",
      "\n"
     ]
    }
   ],
   "source": [
    "joined = filtered_cust.join(orders, col(\"ID\") == col(\"Customer\"))\n",
    "joined.show()"
   ]
  },
  {
   "cell_type": "code",
   "execution_count": 5,
   "metadata": {},
   "outputs": [
    {
     "name": "stdout",
     "output_type": "stream",
     "text": [
      "+-------+--------+-----+\n",
      "|   Name|Customer|Value|\n",
      "+-------+--------+-----+\n",
      "|  Alice|       1|   14|\n",
      "|  Alice|       1|   21|\n",
      "|Charlie|       3|    5|\n",
      "|Charlie|       3|    9|\n",
      "|Charlie|       3|   25|\n",
      "+-------+--------+-----+\n",
      "\n"
     ]
    }
   ],
   "source": [
    "joined.select('Name', 'Customer', 'Value').show()"
   ]
  },
  {
   "cell_type": "code",
   "execution_count": 6,
   "metadata": {},
   "outputs": [
    {
     "name": "stdout",
     "output_type": "stream",
     "text": [
      "+---+----------+\n",
      "| ID|sum(Value)|\n",
      "+---+----------+\n",
      "|  3|      39.0|\n",
      "|  1|      35.0|\n",
      "+---+----------+\n",
      "\n"
     ]
    }
   ],
   "source": [
    "joined.groupBy('ID').agg({'Value': 'sum'}).show()"
   ]
  },
  {
   "cell_type": "code",
   "execution_count": 7,
   "metadata": {
    "collapsed": true
   },
   "outputs": [],
   "source": [
    "customers.createOrReplaceTempView(\"customers\")\n",
    "orders.createOrReplaceTempView(\"orders\")"
   ]
  },
  {
   "cell_type": "code",
   "execution_count": 8,
   "metadata": {},
   "outputs": [
    {
     "name": "stdout",
     "output_type": "stream",
     "text": [
      "+---+-------+\n",
      "| ID|   Name|\n",
      "+---+-------+\n",
      "|  1|  Alice|\n",
      "|  2|    Bob|\n",
      "|  3|Charlie|\n",
      "+---+-------+\n",
      "\n"
     ]
    }
   ],
   "source": [
    "spark.sql('select * from customers').show()"
   ]
  },
  {
   "cell_type": "code",
   "execution_count": 9,
   "metadata": {},
   "outputs": [
    {
     "name": "stdout",
     "output_type": "stream",
     "text": [
      "+-----------+\n",
      "|Total_Value|\n",
      "+-----------+\n",
      "|       39.0|\n",
      "|       35.0|\n",
      "+-----------+\n",
      "\n"
     ]
    }
   ],
   "source": [
    "spark.sql(\n",
    "'''\n",
    "select sum(Value) as Total_Value \n",
    "from customers join orders \n",
    "on ID=Customer \n",
    "where Name in (\"Alice\", \"Charlie\") \n",
    "group by ID\n",
    "'''\n",
    ").show()"
   ]
  }
 ],
 "metadata": {
  "kernelspec": {
   "display_name": "Python 3",
   "language": "python",
   "name": "python3"
  },
  "language_info": {
   "codemirror_mode": {
    "name": "ipython",
    "version": 3
   },
   "file_extension": ".py",
   "mimetype": "text/x-python",
   "name": "python",
   "nbconvert_exporter": "python",
   "pygments_lexer": "ipython3",
   "version": "3.6.3"
  }
 },
 "nbformat": 4,
 "nbformat_minor": 2
}
